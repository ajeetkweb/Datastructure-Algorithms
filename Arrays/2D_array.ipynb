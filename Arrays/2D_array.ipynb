{
 "cells": [
  {
   "cell_type": "markdown",
   "metadata": {},
   "source": [
    "Day 1 - 11, 14 ,16, 18, 15\n",
    "Day 2 - 10, 22, 12, 15, 44\n",
    "Day 3 - 42, 22, 11, 55, 33\n",
    "Day 4 - 22, 33, 34, 22, 11"
   ]
  },
  {
   "cell_type": "code",
   "execution_count": 2,
   "metadata": {},
   "outputs": [],
   "source": [
    "import numpy as np"
   ]
  },
  {
   "cell_type": "code",
   "execution_count": 11,
   "metadata": {},
   "outputs": [
    {
     "name": "stdout",
     "output_type": "stream",
     "text": [
      "[[11 14 16 18 15]\n",
      " [10 22 12 15 44]\n",
      " [42 22 11 55 33]\n",
      " [22 33 34 22 11]]\n"
     ]
    }
   ],
   "source": [
    "twodArray = np.array([ [11, 14 ,16, 18, 15], [10, 22, 12, 15, 44], [42, 22, 11, 55, 33], [22, 33, 34, 22, 11]])\n",
    "print(twodArray)"
   ]
  },
  {
   "cell_type": "code",
   "execution_count": 18,
   "metadata": {},
   "outputs": [
    {
     "name": "stdout",
     "output_type": "stream",
     "text": [
      "[[ 1 11 14 16 18 15]\n",
      " [ 2 10 22 12 15 44]\n",
      " [ 3 42 22 11 55 33]\n",
      " [ 4 22 33 34 22 11]]\n"
     ]
    }
   ],
   "source": [
    "# insert into 2D array\n",
    "# insert  new column : axis = 1\n",
    "\n",
    "new_array = np.insert(twodArray, 0,[[1,2,3,4]], axis=1)\n",
    "print(new_array) "
   ]
  },
  {
   "cell_type": "code",
   "execution_count": 19,
   "metadata": {},
   "outputs": [
    {
     "name": "stdout",
     "output_type": "stream",
     "text": [
      "[[ 1  2  3  4  5  6]\n",
      " [ 1 11 14 16 18 15]\n",
      " [ 2 10 22 12 15 44]\n",
      " [ 3 42 22 11 55 33]\n",
      " [ 4 22 33 34 22 11]]\n"
     ]
    }
   ],
   "source": [
    "# insert into 2D array\n",
    "# insert  new row : axis = 0\n",
    "\n",
    "new_array = np.insert(new_array, 0,[[1,2,3,4,5,6]], axis=0)\n",
    "print(new_array)"
   ]
  },
  {
   "cell_type": "markdown",
   "metadata": {},
   "source": [
    "Traverse 2D Array"
   ]
  },
  {
   "cell_type": "code",
   "execution_count": 27,
   "metadata": {},
   "outputs": [
    {
     "name": "stdout",
     "output_type": "stream",
     "text": [
      "[[11 14 16 18 15]\n",
      " [10 22 12 15 44]\n",
      " [42 22 11 55 33]\n",
      " [22 33 34 22 11]]\n",
      "11\n",
      "14\n",
      "16\n",
      "18\n",
      "15\n",
      "10\n",
      "22\n",
      "12\n",
      "15\n",
      "44\n",
      "42\n",
      "22\n",
      "11\n",
      "55\n",
      "33\n",
      "22\n",
      "33\n",
      "34\n",
      "22\n",
      "11\n"
     ]
    }
   ],
   "source": [
    "def traverse_2dArray(my_array):\n",
    "\n",
    "    for i in range(rows_len):\n",
    "        for j in range(col_len):\n",
    "            print(my_array[i][j])\n",
    "\n",
    "twodArray = np.array([[11, 14 ,16, 18, 15], [10, 22, 12, 15, 44], [42, 22, 11, 55, 33], [22, 33, 34, 22, 11]])\n",
    "print(twodArray)\n",
    "rows_len = len(twodArray)\n",
    "col_len = len(twodArray[0])\n",
    "\n",
    "traverse_2dArray(twodArray)\n",
    "\n"
   ]
  },
  {
   "cell_type": "code",
   "execution_count": 33,
   "metadata": {},
   "outputs": [
    {
     "name": "stdout",
     "output_type": "stream",
     "text": [
      "[[11 14 16 18 15]\n",
      " [10 22 12 15 44]\n",
      " [42 22 11 55 33]\n",
      " [22 33 34 22 11]]\n",
      "The value is located at index 2 3\n"
     ]
    }
   ],
   "source": [
    "# search in 2D Array\n",
    "\n",
    "def search2DArray(my_array, value):\n",
    "\n",
    "    for i in range(rows_len):\n",
    "        for j in range(col_len):\n",
    "            if my_array[i][j] == value:\n",
    "                return f'The value is located at index {i} {j}'\n",
    "    return 'Value not found'\n",
    "\n",
    "twodArray = np.array([[11, 14 ,16, 18, 15], [10, 22, 12, 15, 44], [42, 22, 11, 55, 33], [22, 33, 34, 22, 11]])\n",
    "print(twodArray)\n",
    "rows_len = len(twodArray)\n",
    "col_len = len(twodArray[0])\n",
    "\n",
    "result = search2DArray(twodArray, 55)\n",
    "print(result)\n",
    "\n"
   ]
  },
  {
   "cell_type": "code",
   "execution_count": 37,
   "metadata": {},
   "outputs": [
    {
     "name": "stdout",
     "output_type": "stream",
     "text": [
      "[[11 14 16 18 15]\n",
      " [10 22 12 15 44]\n",
      " [42 22 11 55 33]\n",
      " [22 33 34 22 11]]\n",
      "=========================\n",
      "[[10 22 12 15 44]\n",
      " [42 22 11 55 33]\n",
      " [22 33 34 22 11]]\n",
      "=========================\n",
      "[[14 16 18 15]\n",
      " [22 12 15 44]\n",
      " [22 11 55 33]\n",
      " [33 34 22 11]]\n"
     ]
    }
   ],
   "source": [
    "# Deletion in 2D Array\n",
    "\n",
    "twodArray = np.array([[11, 14 ,16, 18, 15], [10, 22, 12, 15, 44], [42, 22, 11, 55, 33], [22, 33, 34, 22, 11]])\n",
    "print(twodArray)\n",
    "newArray1 = np.delete(twodArray, 0, axis = 0) # delete first row\n",
    "print('=========================')\n",
    "print(newArray1)\n",
    "newArray2 = np.delete(twodArray, 0, axis = 1) # delete first column\n",
    "print('=========================')\n",
    "print(newArray2)\n"
   ]
  }
 ],
 "metadata": {
  "kernelspec": {
   "display_name": "Python 3",
   "language": "python",
   "name": "python3"
  },
  "language_info": {
   "codemirror_mode": {
    "name": "ipython",
    "version": 3
   },
   "file_extension": ".py",
   "mimetype": "text/x-python",
   "name": "python",
   "nbconvert_exporter": "python",
   "pygments_lexer": "ipython3",
   "version": "3.11.5"
  }
 },
 "nbformat": 4,
 "nbformat_minor": 2
}
