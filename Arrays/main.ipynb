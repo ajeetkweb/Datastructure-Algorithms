{
 "cells": [
  {
   "cell_type": "code",
   "execution_count": 2,
   "metadata": {},
   "outputs": [],
   "source": [
    "import array"
   ]
  },
  {
   "cell_type": "code",
   "execution_count": 3,
   "metadata": {},
   "outputs": [
    {
     "name": "stdout",
     "output_type": "stream",
     "text": [
      "array('i', [2, 4, 6, 8, 10])\n"
     ]
    }
   ],
   "source": [
    "\n",
    "\n",
    "# interger Array\n",
    "my_array = array.array('i', [2,4,6,8,10])\n",
    "print(my_array)"
   ]
  },
  {
   "cell_type": "code",
   "execution_count": 8,
   "metadata": {},
   "outputs": [
    {
     "name": "stdout",
     "output_type": "stream",
     "text": [
      "array('u', 'ABCDEFGHIJKLMNOP')\n",
      "E\n"
     ]
    }
   ],
   "source": [
    "string_array = array.array('u', 'ABCDEFGHIJKLMNOP')\n",
    "print(string_array)\n",
    "print(string_array[4])"
   ]
  },
  {
   "cell_type": "code",
   "execution_count": 13,
   "metadata": {},
   "outputs": [
    {
     "name": "stdout",
     "output_type": "stream",
     "text": [
      "[1 2 3 4 5 6 7]\n"
     ]
    }
   ],
   "source": [
    "import numpy as np\n",
    "\n",
    "np_array = np.array([1,2,3,4,5,6,7])\n",
    "print(np_array)"
   ]
  },
  {
   "cell_type": "markdown",
   "metadata": {},
   "source": [
    "Insert into Array\n",
    "\n",
    ".insert(index, value)\n"
   ]
  },
  {
   "cell_type": "code",
   "execution_count": 16,
   "metadata": {},
   "outputs": [
    {
     "name": "stdout",
     "output_type": "stream",
     "text": [
      "array('i', [5, 2, 4, 6, 8, 10])\n"
     ]
    }
   ],
   "source": [
    "my_array = array.array('i', [2,4,6,8,10])\n",
    "my_array.insert(0, 5)\n",
    "print(my_array)"
   ]
  },
  {
   "cell_type": "markdown",
   "metadata": {},
   "source": [
    "Traverse Array"
   ]
  },
  {
   "cell_type": "code",
   "execution_count": 17,
   "metadata": {},
   "outputs": [
    {
     "name": "stdout",
     "output_type": "stream",
     "text": [
      "5\n",
      "2\n",
      "4\n",
      "6\n",
      "8\n",
      "10\n"
     ]
    }
   ],
   "source": [
    "def traverseArray(array):\n",
    "\n",
    "    for item in array:\n",
    "        print(item)\n",
    "\n",
    "traverseArray(my_array)\n"
   ]
  },
  {
   "cell_type": "markdown",
   "metadata": {},
   "source": [
    "Searching for an element"
   ]
  },
  {
   "cell_type": "code",
   "execution_count": 4,
   "metadata": {},
   "outputs": [
    {
     "name": "stdout",
     "output_type": "stream",
     "text": [
      "Element found at position: 3\n"
     ]
    }
   ],
   "source": [
    "\n",
    "\n",
    "def linear_search(my_array, target):\n",
    "\n",
    "    for i in range(len(my_array)):\n",
    "        if my_array[i] == target:\n",
    "            return i\n",
    "        \n",
    "    return -1\n",
    "       \n",
    "my_array = array.array('i', [2,4,6,8,10])    \n",
    "index = linear_search(my_array, 8)\n",
    "if(index > 0):\n",
    "    print('Element found at position:', index)\n",
    "else:\n",
    "    print('Element not found')"
   ]
  },
  {
   "cell_type": "markdown",
   "metadata": {},
   "source": [
    "Deleting an array element\n",
    "\n",
    "remove(element)"
   ]
  },
  {
   "cell_type": "code",
   "execution_count": 7,
   "metadata": {},
   "outputs": [
    {
     "name": "stdout",
     "output_type": "stream",
     "text": [
      "array('i', [4, 6, 8, 10])\n",
      "array('i', [4, 8, 10])\n"
     ]
    }
   ],
   "source": [
    "arr1 = array.array('i', [2,4,6,8,10])   \n",
    "arr1.remove(2)\n",
    "print(arr1)\n",
    "arr1.remove(6)\n",
    "print(arr1)\n"
   ]
  },
  {
   "cell_type": "code",
   "execution_count": 8,
   "metadata": {},
   "outputs": [
    {
     "name": "stdout",
     "output_type": "stream",
     "text": [
      "array('i', [2, 4, 6, 8, 10, 20])\n"
     ]
    }
   ],
   "source": [
    "# append()\n",
    "\n",
    "arr1 = array.array('i', [2,4,6,8,10]) \n",
    "arr1.append(20)\n",
    "print(arr1)"
   ]
  },
  {
   "cell_type": "code",
   "execution_count": 9,
   "metadata": {},
   "outputs": [
    {
     "name": "stdout",
     "output_type": "stream",
     "text": [
      "array('i', [2, 4, 6, 8])\n"
     ]
    }
   ],
   "source": [
    "# pop() : Remove last element\n",
    "\n",
    "arr1 = array.array('i', [2,4,6,8,10]) \n",
    "arr1.pop()\n",
    "print(arr1)"
   ]
  },
  {
   "cell_type": "code",
   "execution_count": 11,
   "metadata": {},
   "outputs": [
    {
     "name": "stdout",
     "output_type": "stream",
     "text": [
      "array('i', [10, 8, 6, 4, 2])\n"
     ]
    }
   ],
   "source": [
    "# reverse() : Reverse array elements\n",
    "\n",
    "arr1 = array.array('i', [2,4,6,8,10]) \n",
    "arr1.reverse()\n",
    "print(arr1)"
   ]
  },
  {
   "cell_type": "code",
   "execution_count": 12,
   "metadata": {},
   "outputs": [
    {
     "name": "stdout",
     "output_type": "stream",
     "text": [
      "(2682006218512, 5)\n"
     ]
    }
   ],
   "source": [
    "# buffer_info() : get buffer info of an array\n",
    "\n",
    "print(arr1.buffer_info())"
   ]
  },
  {
   "cell_type": "code",
   "execution_count": 14,
   "metadata": {},
   "outputs": [
    {
     "name": "stdout",
     "output_type": "stream",
     "text": [
      "element 8 occurs: 2 times\n",
      "element 10 occurs: 3 times\n"
     ]
    }
   ],
   "source": [
    "# count(element) : check no of occurrances of an element\n",
    "\n",
    "my_arr = array.array('i', [2,4,10,6,8,3,5,6,8,9,10,9,10])\n",
    "count_8 = my_arr.count(8)\n",
    "print('element 8 occurs:', count_8,   'times')\n",
    "\n",
    "count_10 = my_arr.count(10)\n",
    "print('element 10 occurs:', count_10,   'times')\n"
   ]
  }
 ],
 "metadata": {
  "kernelspec": {
   "display_name": "Python 3",
   "language": "python",
   "name": "python3"
  },
  "language_info": {
   "codemirror_mode": {
    "name": "ipython",
    "version": 3
   },
   "file_extension": ".py",
   "mimetype": "text/x-python",
   "name": "python",
   "nbconvert_exporter": "python",
   "pygments_lexer": "ipython3",
   "version": "3.11.5"
  }
 },
 "nbformat": 4,
 "nbformat_minor": 2
}
